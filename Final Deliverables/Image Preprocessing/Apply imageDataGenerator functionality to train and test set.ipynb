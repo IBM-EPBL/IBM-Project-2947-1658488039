{
 "cells": [
  {
   "cell_type": "code",
   "execution_count": 4,
   "metadata": {},
   "outputs": [],
   "source": [
    "import os\n",
    "import numpy as np\n",
    "import pandas as pd"
   ]
  },
  {
   "cell_type": "code",
   "execution_count": 5,
   "metadata": {},
   "outputs": [
    {
     "data": {
      "text/html": [
       "<div>\n",
       "<style scoped>\n",
       "    .dataframe tbody tr th:only-of-type {\n",
       "        vertical-align: middle;\n",
       "    }\n",
       "\n",
       "    .dataframe tbody tr th {\n",
       "        vertical-align: top;\n",
       "    }\n",
       "\n",
       "    .dataframe thead th {\n",
       "        text-align: right;\n",
       "    }\n",
       "</style>\n",
       "<table border=\"1\" class=\"dataframe\">\n",
       "  <thead>\n",
       "    <tr style=\"text-align: right;\">\n",
       "      <th></th>\n",
       "      <th>label</th>\n",
       "      <th>path</th>\n",
       "    </tr>\n",
       "  </thead>\n",
       "  <tbody>\n",
       "    <tr>\n",
       "      <th>0</th>\n",
       "      <td>R</td>\n",
       "      <td>Indian/R/63.jpg</td>\n",
       "    </tr>\n",
       "    <tr>\n",
       "      <th>1</th>\n",
       "      <td>R</td>\n",
       "      <td>Indian/R/823.jpg</td>\n",
       "    </tr>\n",
       "    <tr>\n",
       "      <th>2</th>\n",
       "      <td>R</td>\n",
       "      <td>Indian/R/189.jpg</td>\n",
       "    </tr>\n",
       "    <tr>\n",
       "      <th>3</th>\n",
       "      <td>R</td>\n",
       "      <td>Indian/R/77.jpg</td>\n",
       "    </tr>\n",
       "    <tr>\n",
       "      <th>4</th>\n",
       "      <td>R</td>\n",
       "      <td>Indian/R/837.jpg</td>\n",
       "    </tr>\n",
       "    <tr>\n",
       "      <th>...</th>\n",
       "      <td>...</td>\n",
       "      <td>...</td>\n",
       "    </tr>\n",
       "    <tr>\n",
       "      <th>42740</th>\n",
       "      <td>W</td>\n",
       "      <td>Indian/W/0.jpg</td>\n",
       "    </tr>\n",
       "    <tr>\n",
       "      <th>42741</th>\n",
       "      <td>W</td>\n",
       "      <td>Indian/W/806.jpg</td>\n",
       "    </tr>\n",
       "    <tr>\n",
       "      <th>42742</th>\n",
       "      <td>W</td>\n",
       "      <td>Indian/W/46.jpg</td>\n",
       "    </tr>\n",
       "    <tr>\n",
       "      <th>42743</th>\n",
       "      <td>W</td>\n",
       "      <td>Indian/W/190.jpg</td>\n",
       "    </tr>\n",
       "    <tr>\n",
       "      <th>42744</th>\n",
       "      <td>W</td>\n",
       "      <td>Indian/W/184.jpg</td>\n",
       "    </tr>\n",
       "  </tbody>\n",
       "</table>\n",
       "<p>42745 rows × 2 columns</p>\n",
       "</div>"
      ],
      "text/plain": [
       "      label              path\n",
       "0         R   Indian/R/63.jpg\n",
       "1         R  Indian/R/823.jpg\n",
       "2         R  Indian/R/189.jpg\n",
       "3         R   Indian/R/77.jpg\n",
       "4         R  Indian/R/837.jpg\n",
       "...     ...               ...\n",
       "42740     W    Indian/W/0.jpg\n",
       "42741     W  Indian/W/806.jpg\n",
       "42742     W   Indian/W/46.jpg\n",
       "42743     W  Indian/W/190.jpg\n",
       "42744     W  Indian/W/184.jpg\n",
       "\n",
       "[42745 rows x 2 columns]"
      ]
     },
     "execution_count": 5,
     "metadata": {},
     "output_type": "execute_result"
    }
   ],
   "source": [
    "train_folder = 'Indian'\n",
    "all_data = []\n",
    "for folder in os.listdir(train_folder):\n",
    "    \n",
    "    label_folder = os.path.join(train_folder, folder)\n",
    "    onlyfiles = [{'label':folder,'path':os.path.join(label_folder, f)} for f in os.listdir(label_folder) if os.path.isfile(os.path.join(label_folder, f))]\n",
    "    #print(onlyfiles)\n",
    "    all_data += onlyfiles\n",
    "data_df = pd.DataFrame(all_data)\n",
    "data_df"
   ]
  },
  {
   "cell_type": "code",
   "execution_count": 6,
   "metadata": {},
   "outputs": [],
   "source": [
    "from sklearn.model_selection import train_test_split\n",
    "x_train,x_holdout = train_test_split(data_df, test_size= 0.10, random_state=42,stratify=data_df[['label']])\n",
    "x_train,x_test = train_test_split(x_train, test_size= 0.20, random_state=42,stratify=x_train[['label']])"
   ]
  },
  {
   "cell_type": "code",
   "execution_count": 7,
   "metadata": {},
   "outputs": [
    {
     "name": "stdout",
     "output_type": "stream",
     "text": [
      "Found 30776 validated image filenames belonging to 35 classes.\n",
      "Found 7694 validated image filenames belonging to 35 classes.\n",
      "Found 4275 validated image filenames belonging to 35 classes.\n"
     ]
    }
   ],
   "source": [
    "import tensorflow as tf\n",
    "from tensorflow import keras\n",
    "from tensorflow.keras.preprocessing.image import ImageDataGenerator\n",
    "img_width, img_height = 64, 64\n",
    "batch_size = 128\n",
    "y_col = 'label'\n",
    "x_col = 'path'\n",
    "no_of_classes = len(data_df[y_col].unique())\n",
    "\n",
    "\n",
    "train_datagen = ImageDataGenerator(rescale = 1/255.0)\n",
    "\n",
    "train_generator = train_datagen.flow_from_dataframe(\n",
    "    dataframe=x_train,x_col=x_col, y_col=y_col,\n",
    "    target_size=(img_width, img_height),class_mode='categorical', batch_size=batch_size,\n",
    "    shuffle=False,\n",
    ")\n",
    "\n",
    "validation_datagen = ImageDataGenerator(rescale = 1/255.0)\n",
    "validation_generator = validation_datagen.flow_from_dataframe(\n",
    "    dataframe=x_test, x_col=x_col, y_col=y_col,\n",
    "    target_size=(img_width, img_height), class_mode='categorical', batch_size=batch_size,\n",
    "    shuffle=False\n",
    ")\n",
    "\n",
    "holdout_datagen = ImageDataGenerator(rescale = 1/255.0)\n",
    "holdout_generator = holdout_datagen.flow_from_dataframe(\n",
    "    dataframe=x_holdout, x_col=x_col, y_col=y_col,\n",
    "    target_size=(img_width, img_height), class_mode='categorical', batch_size=batch_size,\n",
    "    shuffle=False\n",
    ")\n"
   ]
  },
  {
   "cell_type": "code",
   "execution_count": null,
   "metadata": {},
   "outputs": [],
   "source": []
  }
 ],
 "metadata": {
  "kernelspec": {
   "display_name": "Python 3",
   "language": "python",
   "name": "python3"
  },
  "language_info": {
   "codemirror_mode": {
    "name": "ipython",
    "version": 3
   },
   "file_extension": ".py",
   "mimetype": "text/x-python",
   "name": "python",
   "nbconvert_exporter": "python",
   "pygments_lexer": "ipython3",
   "version": "3.8.3"
  }
 },
 "nbformat": 4,
 "nbformat_minor": 4
}
