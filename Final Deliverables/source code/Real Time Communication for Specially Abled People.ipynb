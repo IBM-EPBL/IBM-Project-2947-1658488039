{
 "cells": [
  {
   "cell_type": "code",
   "execution_count": 1,
   "metadata": {},
   "outputs": [],
   "source": [
    "import numpy as np\n",
    "import pandas as pd\n",
    "import os\n",
    "import seaborn as sns\n",
    "import matplotlib.pyplot as plt\n",
    "%matplotlib inline\n",
    "import cv2\n",
    "from sklearn.metrics import accuracy_score,precision_score,recall_score,confusion_matrix,roc_curve,roc_auc_score\n",
    "from sklearn.model_selection import train_test_split\n",
    "import tensorflow as tf\n",
    "from tensorflow import keras\n",
    "from keras import utils, callbacks\n",
    "from tensorflow.keras import utils\n",
    "from tensorflow.keras.models import Sequential\n",
    "from tensorflow.keras import layers, models\n",
    "from tensorflow.keras.optimizers import Adam\n",
    "from keras.losses import CategoricalCrossentropy\n",
    "import tensorflow as tf\n",
    "from tensorflow.keras.preprocessing.image import ImageDataGenerator\n",
    "from sklearn import metrics"
   ]
  },
  {
   "cell_type": "code",
   "execution_count": 4,
   "metadata": {},
   "outputs": [
    {
     "name": "stdout",
     "output_type": "stream",
     "text": [
      "Archive:  Indian.zip\n",
      "replace __MACOSX/._Indian? [y]es, [n]o, [A]ll, [N]one, [r]ename: ^C\n"
     ]
    }
   ],
   "source": [
    "! unzip 'Indian.zip'"
   ]
  },
  {
   "cell_type": "code",
   "execution_count": 6,
   "metadata": {},
   "outputs": [
    {
     "data": {
      "text/html": [
       "<div>\n",
       "<style scoped>\n",
       "    .dataframe tbody tr th:only-of-type {\n",
       "        vertical-align: middle;\n",
       "    }\n",
       "\n",
       "    .dataframe tbody tr th {\n",
       "        vertical-align: top;\n",
       "    }\n",
       "\n",
       "    .dataframe thead th {\n",
       "        text-align: right;\n",
       "    }\n",
       "</style>\n",
       "<table border=\"1\" class=\"dataframe\">\n",
       "  <thead>\n",
       "    <tr style=\"text-align: right;\">\n",
       "      <th></th>\n",
       "      <th>label</th>\n",
       "      <th>path</th>\n",
       "    </tr>\n",
       "  </thead>\n",
       "  <tbody>\n",
       "    <tr>\n",
       "      <th>0</th>\n",
       "      <td>R</td>\n",
       "      <td>Indian/R/63.jpg</td>\n",
       "    </tr>\n",
       "    <tr>\n",
       "      <th>1</th>\n",
       "      <td>R</td>\n",
       "      <td>Indian/R/823.jpg</td>\n",
       "    </tr>\n",
       "    <tr>\n",
       "      <th>2</th>\n",
       "      <td>R</td>\n",
       "      <td>Indian/R/189.jpg</td>\n",
       "    </tr>\n",
       "    <tr>\n",
       "      <th>3</th>\n",
       "      <td>R</td>\n",
       "      <td>Indian/R/77.jpg</td>\n",
       "    </tr>\n",
       "    <tr>\n",
       "      <th>4</th>\n",
       "      <td>R</td>\n",
       "      <td>Indian/R/837.jpg</td>\n",
       "    </tr>\n",
       "    <tr>\n",
       "      <th>...</th>\n",
       "      <td>...</td>\n",
       "      <td>...</td>\n",
       "    </tr>\n",
       "    <tr>\n",
       "      <th>42740</th>\n",
       "      <td>W</td>\n",
       "      <td>Indian/W/0.jpg</td>\n",
       "    </tr>\n",
       "    <tr>\n",
       "      <th>42741</th>\n",
       "      <td>W</td>\n",
       "      <td>Indian/W/806.jpg</td>\n",
       "    </tr>\n",
       "    <tr>\n",
       "      <th>42742</th>\n",
       "      <td>W</td>\n",
       "      <td>Indian/W/46.jpg</td>\n",
       "    </tr>\n",
       "    <tr>\n",
       "      <th>42743</th>\n",
       "      <td>W</td>\n",
       "      <td>Indian/W/190.jpg</td>\n",
       "    </tr>\n",
       "    <tr>\n",
       "      <th>42744</th>\n",
       "      <td>W</td>\n",
       "      <td>Indian/W/184.jpg</td>\n",
       "    </tr>\n",
       "  </tbody>\n",
       "</table>\n",
       "<p>42745 rows × 2 columns</p>\n",
       "</div>"
      ],
      "text/plain": [
       "      label              path\n",
       "0         R   Indian/R/63.jpg\n",
       "1         R  Indian/R/823.jpg\n",
       "2         R  Indian/R/189.jpg\n",
       "3         R   Indian/R/77.jpg\n",
       "4         R  Indian/R/837.jpg\n",
       "...     ...               ...\n",
       "42740     W    Indian/W/0.jpg\n",
       "42741     W  Indian/W/806.jpg\n",
       "42742     W   Indian/W/46.jpg\n",
       "42743     W  Indian/W/190.jpg\n",
       "42744     W  Indian/W/184.jpg\n",
       "\n",
       "[42745 rows x 2 columns]"
      ]
     },
     "execution_count": 6,
     "metadata": {},
     "output_type": "execute_result"
    }
   ],
   "source": [
    "train_folder = 'Indian'\n",
    "all_data = []\n",
    "for folder in os.listdir(train_folder):\n",
    "    \n",
    "    label_folder = os.path.join(train_folder, folder)\n",
    "    onlyfiles = [{'label':folder,'path':os.path.join(label_folder, f)} for f in os.listdir(label_folder) if os.path.isfile(os.path.join(label_folder, f))]\n",
    "    #print(onlyfiles)\n",
    "    all_data += onlyfiles\n",
    "data_df = pd.DataFrame(all_data)\n",
    "data_df\n"
   ]
  },
  {
   "cell_type": "code",
   "execution_count": 7,
   "metadata": {},
   "outputs": [],
   "source": [
    "x_train,x_holdout = train_test_split(data_df, test_size= 0.10, random_state=42,stratify=data_df[['label']])\n",
    "x_train,x_test = train_test_split(x_train, test_size= 0.20, random_state=42,stratify=x_train[['label']])"
   ]
  },
  {
   "cell_type": "code",
   "execution_count": 8,
   "metadata": {},
   "outputs": [
    {
     "name": "stdout",
     "output_type": "stream",
     "text": [
      "Found 30776 validated image filenames belonging to 35 classes.\n",
      "Found 7694 validated image filenames belonging to 35 classes.\n",
      "Found 4275 validated image filenames belonging to 35 classes.\n"
     ]
    }
   ],
   "source": [
    "img_width, img_height = 64, 64\n",
    "batch_size = 128\n",
    "y_col = 'label'\n",
    "x_col = 'path'\n",
    "no_of_classes = len(data_df[y_col].unique())\n",
    "\n",
    "\n",
    "train_datagen = ImageDataGenerator(rescale = 1/255.0)\n",
    "\n",
    "train_generator = train_datagen.flow_from_dataframe(\n",
    "    dataframe=x_train,x_col=x_col, y_col=y_col,\n",
    "    target_size=(img_width, img_height),class_mode='categorical', batch_size=batch_size,\n",
    "    shuffle=False,\n",
    ")\n",
    "\n",
    "validation_datagen = ImageDataGenerator(rescale = 1/255.0)\n",
    "validation_generator = validation_datagen.flow_from_dataframe(\n",
    "    dataframe=x_test, x_col=x_col, y_col=y_col,\n",
    "    target_size=(img_width, img_height), class_mode='categorical', batch_size=batch_size,\n",
    "    shuffle=False\n",
    ")\n",
    "\n",
    "holdout_datagen = ImageDataGenerator(rescale = 1/255.0)\n",
    "holdout_generator = holdout_datagen.flow_from_dataframe(\n",
    "    dataframe=x_holdout, x_col=x_col, y_col=y_col,\n",
    "    target_size=(img_width, img_height), class_mode='categorical', batch_size=batch_size,\n",
    "    shuffle=False\n",
    ")\n"
   ]
  },
  {
   "cell_type": "code",
   "execution_count": 9,
   "metadata": {},
   "outputs": [
    {
     "name": "stdout",
     "output_type": "stream",
     "text": [
      "Model: \"sequential\"\n",
      "_________________________________________________________________\n",
      "Layer (type)                 Output Shape              Param #   \n",
      "=================================================================\n",
      "conv2d (Conv2D)              (None, 62, 62, 32)        896       \n",
      "_________________________________________________________________\n",
      "max_pooling2d (MaxPooling2D) (None, 31, 31, 32)        0         \n",
      "_________________________________________________________________\n",
      "conv2d_1 (Conv2D)            (None, 29, 29, 64)        18496     \n",
      "_________________________________________________________________\n",
      "max_pooling2d_1 (MaxPooling2 (None, 14, 14, 64)        0         \n",
      "_________________________________________________________________\n",
      "conv2d_2 (Conv2D)            (None, 12, 12, 64)        36928     \n",
      "_________________________________________________________________\n",
      "max_pooling2d_2 (MaxPooling2 (None, 6, 6, 64)          0         \n",
      "_________________________________________________________________\n",
      "flatten (Flatten)            (None, 2304)              0         \n",
      "_________________________________________________________________\n",
      "dense (Dense)                (None, 128)               295040    \n",
      "_________________________________________________________________\n",
      "dense_1 (Dense)              (None, 35)                4515      \n",
      "=================================================================\n",
      "Total params: 355,875\n",
      "Trainable params: 355,875\n",
      "Non-trainable params: 0\n",
      "_________________________________________________________________\n"
     ]
    }
   ],
   "source": [
    "model = Sequential([\n",
    "    layers.Conv2D(32, (3, 3), activation='relu', input_shape=(64, 64, 3)),\n",
    "    layers.MaxPool2D((2, 2)),\n",
    "    layers.Conv2D(64, (3, 3), activation='relu'),\n",
    "    layers.MaxPool2D((2, 2)),\n",
    "    layers.Conv2D(64, (3, 3), activation='relu'),\n",
    "    layers.MaxPool2D((2, 2)),\n",
    "    layers.Flatten(),\n",
    "    layers.Dense(128, activation='relu'),\n",
    "    layers.Dense(35, activation='softmax')\n",
    "])\n",
    "model.summary()"
   ]
  },
  {
   "cell_type": "code",
   "execution_count": 10,
   "metadata": {},
   "outputs": [
    {
     "name": "stdout",
     "output_type": "stream",
     "text": [
      "Epoch 1/10\n",
      "241/241 [==============================] - 65s 268ms/step - loss: 1.1462 - accuracy: 0.7645 - val_loss: 0.0567 - val_accuracy: 0.9864\n",
      "Epoch 2/10\n",
      "241/241 [==============================] - 56s 232ms/step - loss: 0.0414 - accuracy: 0.9910 - val_loss: 0.0168 - val_accuracy: 0.9952\n",
      "Epoch 3/10\n",
      "241/241 [==============================] - 56s 231ms/step - loss: 0.0216 - accuracy: 0.9951 - val_loss: 0.0121 - val_accuracy: 0.9968\n",
      "Epoch 4/10\n",
      "241/241 [==============================] - 67s 279ms/step - loss: 0.0086 - accuracy: 0.9976 - val_loss: 0.0082 - val_accuracy: 0.9979\n",
      "Epoch 5/10\n",
      "241/241 [==============================] - 60s 250ms/step - loss: 0.0092 - accuracy: 0.9979 - val_loss: 0.0036 - val_accuracy: 0.9991\n",
      "Epoch 6/10\n",
      "241/241 [==============================] - 56s 233ms/step - loss: 0.0042 - accuracy: 0.9989 - val_loss: 0.0201 - val_accuracy: 0.9944\n",
      "Epoch 7/10\n",
      "241/241 [==============================] - 57s 235ms/step - loss: 0.0045 - accuracy: 0.9987 - val_loss: 0.0018 - val_accuracy: 0.9995\n",
      "Epoch 8/10\n",
      "241/241 [==============================] - 56s 234ms/step - loss: 0.0022 - accuracy: 0.9995 - val_loss: 0.0062 - val_accuracy: 0.9981\n",
      "Epoch 9/10\n",
      "241/241 [==============================] - 58s 240ms/step - loss: 0.0023 - accuracy: 0.9994 - val_loss: 0.0027 - val_accuracy: 0.9994\n",
      "Epoch 10/10\n",
      "241/241 [==============================] - 61s 252ms/step - loss: 0.0018 - accuracy: 0.9995 - val_loss: 0.0013 - val_accuracy: 0.9996\n"
     ]
    }
   ],
   "source": [
    "classes = 35\n",
    "epochs = 10\n",
    "learning_rate = 0.0001\n",
    "\n",
    "adam = Adam(lr=learning_rate)\n",
    "model.compile(optimizer=adam, loss='categorical_crossentropy', metrics=['accuracy'])\n",
    "history = model.fit(train_generator,\n",
    "                    epochs=epochs,\n",
    "                    verbose=1,\n",
    "                    validation_data=validation_generator, shuffle=True)"
   ]
  },
  {
   "cell_type": "code",
   "execution_count": 11,
   "metadata": {},
   "outputs": [
    {
     "data": {
      "image/png": "[encoded data removed]",
      "text/plain": [
       "<Figure size 1008x504 with 1 Axes>"
      ]
     },
     "metadata": {
      "needs_background": "light"
     },
     "output_type": "display_data"
    }
   ],
   "source": [
    "acc=history.history['accuracy']\n",
    "val_acc=history.history['val_accuracy']\n",
    "loss=history.history['loss']\n",
    "val_loss=history.history['val_loss']\n",
    "\n",
    "epochs=range(len(acc))\n",
    "\n",
    "fig = plt.figure(figsize=(14,7))\n",
    "plt.plot(epochs, acc, 'r', label=\"Training Accuracy\")\n",
    "plt.plot(epochs, val_acc, 'b', label=\"Validation Accuracy\")\n",
    "plt.xlabel('Epoch')\n",
    "plt.ylabel('Accuracy')\n",
    "plt.title('Training and validation accuracy')\n",
    "plt.legend(loc='lower right')\n",
    "plt.show()"
   ]
  },
  {
   "cell_type": "code",
   "execution_count": 12,
   "metadata": {},
   "outputs": [
    {
     "data": {
      "text/plain": [
       "Text(0.5, 1.0, 'Training and validation loss')"
      ]
     },
     "execution_count": 12,
     "metadata": {},
     "output_type": "execute_result"
    },
    {
     "data": {
      "image/png": "[encoded data removed]",
      "text/plain": [
       "<Figure size 1008x504 with 1 Axes>"
      ]
     },
     "metadata": {
      "needs_background": "light"
     },
     "output_type": "display_data"
    }
   ],
   "source": [
    "fig = plt.figure(figsize=(14,7))\n",
    "plt.plot(epochs, loss, 'r', label=\"Training Loss\")\n",
    "plt.plot(epochs, val_loss, 'b', label=\"Validation Loss\")\n",
    "plt.legend(loc='upper right')\n",
    "plt.xlabel('Epoch')\n",
    "plt.ylabel('Loss')\n",
    "plt.title('Training and validation loss')"
   ]
  },
  {
   "cell_type": "code",
   "execution_count": 13,
   "metadata": {},
   "outputs": [
    {
     "name": "stdout",
     "output_type": "stream",
     "text": [
      "34/34 [==============================] - 5s 134ms/step\n",
      "              precision    recall  f1-score   support\n",
      "\n",
      "           1       1.00      1.00      1.00       120\n",
      "           2       1.00      1.00      1.00       120\n",
      "           3       1.00      1.00      1.00       120\n",
      "           4       1.00      1.00      1.00       120\n",
      "           5       1.00      1.00      1.00       120\n",
      "           6       1.00      1.00      1.00       120\n",
      "           7       1.00      1.00      1.00       120\n",
      "           8       1.00      1.00      1.00       120\n",
      "           9       1.00      1.00      1.00       120\n",
      "           A       1.00      1.00      1.00       120\n",
      "           B       1.00      1.00      1.00       120\n",
      "           C       0.97      0.99      0.98       145\n",
      "           D       1.00      1.00      1.00       120\n",
      "           E       1.00      1.00      1.00       120\n",
      "           F       1.00      1.00      1.00       120\n",
      "           G       1.00      1.00      1.00       120\n",
      "           H       1.00      1.00      1.00       120\n",
      "           I       1.00      1.00      1.00       138\n",
      "           J       1.00      1.00      1.00       120\n",
      "           K       1.00      1.00      1.00       120\n",
      "           L       1.00      1.00      1.00       120\n",
      "           M       1.00      1.00      1.00       120\n",
      "           N       1.00      1.00      1.00       120\n",
      "           O       0.99      0.97      0.98       143\n",
      "           P       1.00      1.00      1.00       120\n",
      "           Q       1.00      1.00      1.00       120\n",
      "           R       1.00      1.00      1.00       120\n",
      "           S       1.00      1.00      1.00       120\n",
      "           T       1.00      1.00      1.00       120\n",
      "           U       1.00      1.00      1.00       120\n",
      "           V       1.00      1.00      1.00       129\n",
      "           W       1.00      1.00      1.00       120\n",
      "           X       1.00      1.00      1.00       120\n",
      "           Y       1.00      1.00      1.00       120\n",
      "           Z       1.00      1.00      1.00       120\n",
      "\n",
      "    accuracy                           1.00      4275\n",
      "   macro avg       1.00      1.00      1.00      4275\n",
      "weighted avg       1.00      1.00      1.00      4275\n",
      "\n"
     ]
    }
   ],
   "source": [
    "predictions = model.predict(holdout_generator, verbose=1)\n",
    "# Get most likely class\n",
    "predicted_classes = np.argmax(predictions, axis=-1)\n",
    "predictions = np.argmax(predictions, axis=-1) #multiple categories\n",
    "\n",
    "true_classes = holdout_generator.classes\n",
    "class_labels = list(holdout_generator.class_indices.keys())  \n",
    "report = metrics.classification_report(true_classes, predicted_classes, target_names=class_labels)\n",
    "print(report)"
   ]
  },
  {
   "cell_type": "code",
   "execution_count": 14,
   "metadata": {},
   "outputs": [],
   "source": [
    "model.save('SignLanguageClassification.h5')"
   ]
  },
  {
   "cell_type": "code",
   "execution_count": null,
   "metadata": {},
   "outputs": [],
   "source": []
  }
 ],
 "metadata": {
  "kernelspec": {
   "display_name": "Python 3",
   "language": "python",
   "name": "python3"
  },
  "language_info": {
   "codemirror_mode": {
    "name": "ipython",
    "version": 3
   },
   "file_extension": ".py",
   "mimetype": "text/x-python",
   "name": "python",
   "nbconvert_exporter": "python",
   "pygments_lexer": "ipython3",
   "version": "3.8.3"
  }
 },
 "nbformat": 4,
 "nbformat_minor": 4
}
